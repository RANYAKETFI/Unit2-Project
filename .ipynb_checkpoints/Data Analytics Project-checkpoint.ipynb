{
 "cells": [
  {
   "cell_type": "markdown",
   "metadata": {},
   "source": [
    "<img src=\"Logo.png\" width=\"100\" align=\"left\"/> \n",
    "\n",
    "# <center>Data Analytics project:</center>\n",
    "\n",
    "\n",
    "\n",
    "Congratulations on finishing the lessons content for this second unit !\n",
    "\n",
    "We have seen a lot of concepts in the second unit and we had the chance to test some of them. Now, we get to see how these different concepts are used to better understand our data."
   ]
  },
  {
   "cell_type": "markdown",
   "metadata": {},
   "source": [
    "## Some guidelines: \n",
    "1. To run a cell you can use the shortcut use : Shift + Enter\n",
    "\n",
    "2. Only sections mentioned as To-Do are the places where you should put in your own code other than that we do not recommend that you change the provided code.\n",
    "\n",
    "3. You will be graded for the visibility of your code so make sure you respect the correct indentation and that your code contains suitable variables names.\n",
    "\n",
    "4. This notebook is designed in a sequential way so if you solve your project on different days make sure to run the previous cells before you can run the one you want.\n",
    "\n",
    "5. Teacher assistants in the slack space remain available to answer any questions you might have.\n",
    "\n",
    ">Best of luck ! "
   ]
  },
  {
   "cell_type": "markdown",
   "metadata": {},
   "source": [
    "## Project Sections:\n",
    "In this project you will practice some of the concepts seen in the data analytics unit, you will deal with a real dataset. This dataset contains house sale prices for King County. It includes homes sold between May 2014 and May 2015.\n",
    "\n",
    "Our goal is to analyze this dataset, clean it then create a simple linear regression model using it.\n",
    "\n",
    "This project is devided into n sections : \n",
    "1. [Setting the environement](#set_env)\n",
    "\n",
    "2. [Importing necessary tools](#importing)\n",
    "\n",
    "3. [Dataset discovery](#dataset_discovery)\n",
    "\n",
    "4. [NA handling](#na_handling)\n",
    "\n",
    "5. [Useless variables deletion](#useless_var)\n",
    "\n",
    "6. [Outliers detection](#outliers)\n",
    "\n",
    "7. [Feature selection](#feature_selection)\n",
    "\n",
    "8. [Linear regression](#linear_reg)"
   ]
  },
  {
   "cell_type": "markdown",
   "metadata": {},
   "source": [
    "### 1. Setting the environement:  <a id='set_env'></a>"
   ]
  },
  {
   "cell_type": "code",
   "execution_count": 1,
   "metadata": {},
   "outputs": [
    {
     "name": "stdout",
     "output_type": "stream",
     "text": [
      "Requirement already satisfied: virtualenv in g:\\utilisateurs\\raniya.ketfi\\anaconda3\\lib\\site-packages (20.13.1)\n",
      "Requirement already satisfied: six<2,>=1.9.0 in g:\\utilisateurs\\raniya.ketfi\\anaconda3\\lib\\site-packages (from virtualenv) (1.16.0)\n",
      "Requirement already satisfied: distlib<1,>=0.3.1 in g:\\utilisateurs\\raniya.ketfi\\anaconda3\\lib\\site-packages (from virtualenv) (0.3.4)\n",
      "Requirement already satisfied: platformdirs<3,>=2 in g:\\utilisateurs\\raniya.ketfi\\anaconda3\\lib\\site-packages (from virtualenv) (2.5.0)\n",
      "Requirement already satisfied: filelock<4,>=3.2 in g:\\utilisateurs\\raniya.ketfi\\anaconda3\\lib\\site-packages (from virtualenv) (3.3.1)\n"
     ]
    },
    {
     "name": "stderr",
     "output_type": "stream",
     "text": [
      "WARNING: You are using pip version 22.0.3; however, version 22.1 is available.\n",
      "You should consider upgrading via the 'G:\\Utilisateurs\\raniya.ketfi\\Anaconda3\\python.exe -m pip install --upgrade pip' command.\n"
     ]
    }
   ],
   "source": [
    "# Make sure you have virtualenv installed \n",
    "!pip install --user virtualenv"
   ]
  },
  {
   "cell_type": "code",
   "execution_count": 2,
   "metadata": {},
   "outputs": [],
   "source": [
    "# To-Do: create a virtual environement called data_analytics\n",
    "!python -m venv data_analytics"
   ]
  },
  {
   "cell_type": "code",
   "execution_count": 3,
   "metadata": {},
   "outputs": [
    {
     "name": "stderr",
     "output_type": "stream",
     "text": [
      "'source' n'est pas reconnu en tant que commande interne\n",
      "ou externe, un programme ex‚cutable ou un fichier de commandes.\n"
     ]
    }
   ],
   "source": [
    "# Activate the environement for windows\n",
    "!source data_analytics/bin/activate"
   ]
  },
  {
   "cell_type": "markdown",
   "metadata": {},
   "source": [
    "### 2. Importing necessary tools:<a id='importing'></a>"
   ]
  },
  {
   "cell_type": "code",
   "execution_count": 22,
   "metadata": {},
   "outputs": [],
   "source": [
    "import pandas as pd\n",
    "import matplotlib.pyplot as plt\n",
    "import seaborn as sns"
   ]
  },
  {
   "cell_type": "markdown",
   "metadata": {},
   "source": [
    "### 3. Dataset discovery:<a id='dataset_discovery'></a>"
   ]
  },
  {
   "cell_type": "code",
   "execution_count": 23,
   "metadata": {},
   "outputs": [
    {
     "data": {
      "text/plain": [
       "(21613, 21)"
      ]
     },
     "execution_count": 23,
     "metadata": {},
     "output_type": "execute_result"
    }
   ],
   "source": [
    "# To-Do: Read the file (\"kc_house_data.csv\") using pandas and store in a dataframe called df\n",
    "df=pd.read_csv(\"kc_house_data.csv\")\n",
    "# To-Do: Print the dataframe's shape\n",
    "df.shape"
   ]
  },
  {
   "cell_type": "code",
   "execution_count": 24,
   "metadata": {},
   "outputs": [
    {
     "data": {
      "text/html": [
       "<div>\n",
       "<style scoped>\n",
       "    .dataframe tbody tr th:only-of-type {\n",
       "        vertical-align: middle;\n",
       "    }\n",
       "\n",
       "    .dataframe tbody tr th {\n",
       "        vertical-align: top;\n",
       "    }\n",
       "\n",
       "    .dataframe thead th {\n",
       "        text-align: right;\n",
       "    }\n",
       "</style>\n",
       "<table border=\"1\" class=\"dataframe\">\n",
       "  <thead>\n",
       "    <tr style=\"text-align: right;\">\n",
       "      <th></th>\n",
       "      <th>id</th>\n",
       "      <th>price</th>\n",
       "      <th>bedrooms</th>\n",
       "      <th>bathrooms</th>\n",
       "      <th>sqft_living</th>\n",
       "      <th>sqft_lot</th>\n",
       "      <th>floors</th>\n",
       "      <th>waterfront</th>\n",
       "      <th>view</th>\n",
       "      <th>condition</th>\n",
       "      <th>grade</th>\n",
       "      <th>sqft_above</th>\n",
       "      <th>sqft_basement</th>\n",
       "      <th>yr_built</th>\n",
       "      <th>yr_renovated</th>\n",
       "      <th>zipcode</th>\n",
       "      <th>lat</th>\n",
       "      <th>long</th>\n",
       "      <th>sqft_living15</th>\n",
       "      <th>sqft_lot15</th>\n",
       "    </tr>\n",
       "  </thead>\n",
       "  <tbody>\n",
       "    <tr>\n",
       "      <th>count</th>\n",
       "      <td>2.161300e+04</td>\n",
       "      <td>2.160800e+04</td>\n",
       "      <td>21613.000000</td>\n",
       "      <td>21613.000000</td>\n",
       "      <td>21612.000000</td>\n",
       "      <td>2.161200e+04</td>\n",
       "      <td>21613.000000</td>\n",
       "      <td>21613.000000</td>\n",
       "      <td>21613.000000</td>\n",
       "      <td>21613.000000</td>\n",
       "      <td>21613.000000</td>\n",
       "      <td>21609.000000</td>\n",
       "      <td>21613.000000</td>\n",
       "      <td>21611.000000</td>\n",
       "      <td>21612.000000</td>\n",
       "      <td>21611.000000</td>\n",
       "      <td>21612.000000</td>\n",
       "      <td>21613.000000</td>\n",
       "      <td>21612.000000</td>\n",
       "      <td>21613.000000</td>\n",
       "    </tr>\n",
       "    <tr>\n",
       "      <th>mean</th>\n",
       "      <td>4.580302e+09</td>\n",
       "      <td>5.401231e+05</td>\n",
       "      <td>3.370842</td>\n",
       "      <td>2.114757</td>\n",
       "      <td>2079.865491</td>\n",
       "      <td>1.510743e+04</td>\n",
       "      <td>1.494309</td>\n",
       "      <td>0.007542</td>\n",
       "      <td>0.234303</td>\n",
       "      <td>3.409430</td>\n",
       "      <td>7.656873</td>\n",
       "      <td>1788.404739</td>\n",
       "      <td>291.509045</td>\n",
       "      <td>1971.002406</td>\n",
       "      <td>84.406163</td>\n",
       "      <td>98077.939753</td>\n",
       "      <td>47.560055</td>\n",
       "      <td>-122.213896</td>\n",
       "      <td>1986.566213</td>\n",
       "      <td>12768.455652</td>\n",
       "    </tr>\n",
       "    <tr>\n",
       "      <th>std</th>\n",
       "      <td>2.876566e+09</td>\n",
       "      <td>3.671589e+05</td>\n",
       "      <td>0.930062</td>\n",
       "      <td>0.770163</td>\n",
       "      <td>918.448347</td>\n",
       "      <td>4.142141e+04</td>\n",
       "      <td>0.539989</td>\n",
       "      <td>0.086517</td>\n",
       "      <td>0.766318</td>\n",
       "      <td>0.650743</td>\n",
       "      <td>1.175459</td>\n",
       "      <td>828.155184</td>\n",
       "      <td>442.575043</td>\n",
       "      <td>29.373191</td>\n",
       "      <td>401.688123</td>\n",
       "      <td>53.502440</td>\n",
       "      <td>0.138566</td>\n",
       "      <td>0.140828</td>\n",
       "      <td>685.404193</td>\n",
       "      <td>27304.179631</td>\n",
       "    </tr>\n",
       "    <tr>\n",
       "      <th>min</th>\n",
       "      <td>1.000102e+06</td>\n",
       "      <td>7.500000e+04</td>\n",
       "      <td>0.000000</td>\n",
       "      <td>0.000000</td>\n",
       "      <td>290.000000</td>\n",
       "      <td>5.200000e+02</td>\n",
       "      <td>1.000000</td>\n",
       "      <td>0.000000</td>\n",
       "      <td>0.000000</td>\n",
       "      <td>1.000000</td>\n",
       "      <td>1.000000</td>\n",
       "      <td>290.000000</td>\n",
       "      <td>0.000000</td>\n",
       "      <td>1900.000000</td>\n",
       "      <td>0.000000</td>\n",
       "      <td>98001.000000</td>\n",
       "      <td>47.155900</td>\n",
       "      <td>-122.519000</td>\n",
       "      <td>399.000000</td>\n",
       "      <td>651.000000</td>\n",
       "    </tr>\n",
       "    <tr>\n",
       "      <th>25%</th>\n",
       "      <td>2.123049e+09</td>\n",
       "      <td>3.218375e+05</td>\n",
       "      <td>3.000000</td>\n",
       "      <td>1.750000</td>\n",
       "      <td>1426.500000</td>\n",
       "      <td>5.040000e+03</td>\n",
       "      <td>1.000000</td>\n",
       "      <td>0.000000</td>\n",
       "      <td>0.000000</td>\n",
       "      <td>3.000000</td>\n",
       "      <td>7.000000</td>\n",
       "      <td>1190.000000</td>\n",
       "      <td>0.000000</td>\n",
       "      <td>1951.000000</td>\n",
       "      <td>0.000000</td>\n",
       "      <td>98033.000000</td>\n",
       "      <td>47.470975</td>\n",
       "      <td>-122.328000</td>\n",
       "      <td>1490.000000</td>\n",
       "      <td>5100.000000</td>\n",
       "    </tr>\n",
       "    <tr>\n",
       "      <th>50%</th>\n",
       "      <td>3.904930e+09</td>\n",
       "      <td>4.500000e+05</td>\n",
       "      <td>3.000000</td>\n",
       "      <td>2.250000</td>\n",
       "      <td>1910.000000</td>\n",
       "      <td>7.619000e+03</td>\n",
       "      <td>1.500000</td>\n",
       "      <td>0.000000</td>\n",
       "      <td>0.000000</td>\n",
       "      <td>3.000000</td>\n",
       "      <td>7.000000</td>\n",
       "      <td>1560.000000</td>\n",
       "      <td>0.000000</td>\n",
       "      <td>1975.000000</td>\n",
       "      <td>0.000000</td>\n",
       "      <td>98065.000000</td>\n",
       "      <td>47.571800</td>\n",
       "      <td>-122.230000</td>\n",
       "      <td>1840.000000</td>\n",
       "      <td>7620.000000</td>\n",
       "    </tr>\n",
       "    <tr>\n",
       "      <th>75%</th>\n",
       "      <td>7.308900e+09</td>\n",
       "      <td>6.450000e+05</td>\n",
       "      <td>4.000000</td>\n",
       "      <td>2.500000</td>\n",
       "      <td>2550.000000</td>\n",
       "      <td>1.068825e+04</td>\n",
       "      <td>2.000000</td>\n",
       "      <td>0.000000</td>\n",
       "      <td>0.000000</td>\n",
       "      <td>4.000000</td>\n",
       "      <td>8.000000</td>\n",
       "      <td>2210.000000</td>\n",
       "      <td>560.000000</td>\n",
       "      <td>1997.000000</td>\n",
       "      <td>0.000000</td>\n",
       "      <td>98118.000000</td>\n",
       "      <td>47.678000</td>\n",
       "      <td>-122.125000</td>\n",
       "      <td>2360.000000</td>\n",
       "      <td>10083.000000</td>\n",
       "    </tr>\n",
       "    <tr>\n",
       "      <th>max</th>\n",
       "      <td>9.900000e+09</td>\n",
       "      <td>7.700000e+06</td>\n",
       "      <td>33.000000</td>\n",
       "      <td>8.000000</td>\n",
       "      <td>13540.000000</td>\n",
       "      <td>1.651359e+06</td>\n",
       "      <td>3.500000</td>\n",
       "      <td>1.000000</td>\n",
       "      <td>4.000000</td>\n",
       "      <td>5.000000</td>\n",
       "      <td>13.000000</td>\n",
       "      <td>9410.000000</td>\n",
       "      <td>4820.000000</td>\n",
       "      <td>2015.000000</td>\n",
       "      <td>2015.000000</td>\n",
       "      <td>98199.000000</td>\n",
       "      <td>47.777600</td>\n",
       "      <td>-121.315000</td>\n",
       "      <td>6210.000000</td>\n",
       "      <td>871200.000000</td>\n",
       "    </tr>\n",
       "  </tbody>\n",
       "</table>\n",
       "</div>"
      ],
      "text/plain": [
       "                 id         price      bedrooms     bathrooms   sqft_living  \\\n",
       "count  2.161300e+04  2.160800e+04  21613.000000  21613.000000  21612.000000   \n",
       "mean   4.580302e+09  5.401231e+05      3.370842      2.114757   2079.865491   \n",
       "std    2.876566e+09  3.671589e+05      0.930062      0.770163    918.448347   \n",
       "min    1.000102e+06  7.500000e+04      0.000000      0.000000    290.000000   \n",
       "25%    2.123049e+09  3.218375e+05      3.000000      1.750000   1426.500000   \n",
       "50%    3.904930e+09  4.500000e+05      3.000000      2.250000   1910.000000   \n",
       "75%    7.308900e+09  6.450000e+05      4.000000      2.500000   2550.000000   \n",
       "max    9.900000e+09  7.700000e+06     33.000000      8.000000  13540.000000   \n",
       "\n",
       "           sqft_lot        floors    waterfront          view     condition  \\\n",
       "count  2.161200e+04  21613.000000  21613.000000  21613.000000  21613.000000   \n",
       "mean   1.510743e+04      1.494309      0.007542      0.234303      3.409430   \n",
       "std    4.142141e+04      0.539989      0.086517      0.766318      0.650743   \n",
       "min    5.200000e+02      1.000000      0.000000      0.000000      1.000000   \n",
       "25%    5.040000e+03      1.000000      0.000000      0.000000      3.000000   \n",
       "50%    7.619000e+03      1.500000      0.000000      0.000000      3.000000   \n",
       "75%    1.068825e+04      2.000000      0.000000      0.000000      4.000000   \n",
       "max    1.651359e+06      3.500000      1.000000      4.000000      5.000000   \n",
       "\n",
       "              grade    sqft_above  sqft_basement      yr_built  yr_renovated  \\\n",
       "count  21613.000000  21609.000000   21613.000000  21611.000000  21612.000000   \n",
       "mean       7.656873   1788.404739     291.509045   1971.002406     84.406163   \n",
       "std        1.175459    828.155184     442.575043     29.373191    401.688123   \n",
       "min        1.000000    290.000000       0.000000   1900.000000      0.000000   \n",
       "25%        7.000000   1190.000000       0.000000   1951.000000      0.000000   \n",
       "50%        7.000000   1560.000000       0.000000   1975.000000      0.000000   \n",
       "75%        8.000000   2210.000000     560.000000   1997.000000      0.000000   \n",
       "max       13.000000   9410.000000    4820.000000   2015.000000   2015.000000   \n",
       "\n",
       "            zipcode           lat          long  sqft_living15     sqft_lot15  \n",
       "count  21611.000000  21612.000000  21613.000000   21612.000000   21613.000000  \n",
       "mean   98077.939753     47.560055   -122.213896    1986.566213   12768.455652  \n",
       "std       53.502440      0.138566      0.140828     685.404193   27304.179631  \n",
       "min    98001.000000     47.155900   -122.519000     399.000000     651.000000  \n",
       "25%    98033.000000     47.470975   -122.328000    1490.000000    5100.000000  \n",
       "50%    98065.000000     47.571800   -122.230000    1840.000000    7620.000000  \n",
       "75%    98118.000000     47.678000   -122.125000    2360.000000   10083.000000  \n",
       "max    98199.000000     47.777600   -121.315000    6210.000000  871200.000000  "
      ]
     },
     "execution_count": 24,
     "metadata": {},
     "output_type": "execute_result"
    }
   ],
   "source": [
    "# To-Do: Print the dataframe's info\n",
    "df.describe()"
   ]
  },
  {
   "cell_type": "markdown",
   "metadata": {},
   "source": [
    "### 4. NA handling:<a id='na_handling'></a>\n",
    "It is clear after printing the dataset info that there are some variables that have less entries than the number of rows which means that some of them don't have values in certain rows.\n",
    "\n",
    "Given the number of the na values, what do you think is the best method to deal with them?"
   ]
  },
  {
   "cell_type": "code",
   "execution_count": 25,
   "metadata": {},
   "outputs": [
    {
     "data": {
      "text/plain": [
       "id               0\n",
       "date             7\n",
       "price            5\n",
       "bedrooms         0\n",
       "bathrooms        0\n",
       "sqft_living      1\n",
       "sqft_lot         1\n",
       "floors           0\n",
       "waterfront       0\n",
       "view             0\n",
       "condition        0\n",
       "grade            0\n",
       "sqft_above       4\n",
       "sqft_basement    0\n",
       "yr_built         2\n",
       "yr_renovated     1\n",
       "zipcode          2\n",
       "lat              1\n",
       "long             0\n",
       "sqft_living15    1\n",
       "sqft_lot15       0\n",
       "dtype: int64"
      ]
     },
     "execution_count": 25,
     "metadata": {},
     "output_type": "execute_result"
    }
   ],
   "source": [
    "df.isna().sum()"
   ]
  },
  {
   "cell_type": "code",
   "execution_count": 26,
   "metadata": {},
   "outputs": [
    {
     "data": {
      "text/plain": [
       "(21588, 21)"
      ]
     },
     "execution_count": 26,
     "metadata": {},
     "output_type": "execute_result"
    }
   ],
   "source": [
    "# To-Do: deal with the NAs in your dataset in one line\n",
    "df.dropna(inplace=True)\n",
    "df.shape"
   ]
  },
  {
   "cell_type": "markdown",
   "metadata": {},
   "source": [
    "### 5. Useless variables deletion:<a id='useless_var'></a>\n",
    "We want to eventually do a regression on it so naturally some variables bring no added value and can be delted without impacting the results.\n",
    "\n",
    "Delete the column that correspond to variables that aren't needed."
   ]
  },
  {
   "cell_type": "code",
   "execution_count": 27,
   "metadata": {},
   "outputs": [
    {
     "data": {
      "text/plain": [
       "Index(['id', 'date', 'price', 'bedrooms', 'bathrooms', 'sqft_living',\n",
       "       'sqft_lot', 'floors', 'waterfront', 'view', 'condition', 'grade',\n",
       "       'sqft_above', 'sqft_basement', 'yr_built', 'yr_renovated', 'zipcode',\n",
       "       'lat', 'long', 'sqft_living15', 'sqft_lot15'],\n",
       "      dtype='object')"
      ]
     },
     "execution_count": 27,
     "metadata": {},
     "output_type": "execute_result"
    }
   ],
   "source": [
    "df.columns"
   ]
  },
  {
   "cell_type": "code",
   "execution_count": 28,
   "metadata": {
    "scrolled": true
   },
   "outputs": [],
   "source": [
    "# To-Do: delete the values of the variables that are useless\n",
    "df.drop([\"id\",\"date\",\"sqft_living15\", \"sqft_lot15\"],axis=1,inplace=True)"
   ]
  },
  {
   "cell_type": "code",
   "execution_count": 29,
   "metadata": {},
   "outputs": [
    {
     "name": "stdout",
     "output_type": "stream",
     "text": [
      "<class 'pandas.core.frame.DataFrame'>\n",
      "Int64Index: 21588 entries, 0 to 21612\n",
      "Data columns (total 17 columns):\n",
      " #   Column         Non-Null Count  Dtype  \n",
      "---  ------         --------------  -----  \n",
      " 0   price          21588 non-null  float64\n",
      " 1   bedrooms       21588 non-null  int64  \n",
      " 2   bathrooms      21588 non-null  float64\n",
      " 3   sqft_living    21588 non-null  float64\n",
      " 4   sqft_lot       21588 non-null  float64\n",
      " 5   floors         21588 non-null  float64\n",
      " 6   waterfront     21588 non-null  int64  \n",
      " 7   view           21588 non-null  int64  \n",
      " 8   condition      21588 non-null  int64  \n",
      " 9   grade          21588 non-null  int64  \n",
      " 10  sqft_above     21588 non-null  float64\n",
      " 11  sqft_basement  21588 non-null  int64  \n",
      " 12  yr_built       21588 non-null  float64\n",
      " 13  yr_renovated   21588 non-null  float64\n",
      " 14  zipcode        21588 non-null  float64\n",
      " 15  lat            21588 non-null  float64\n",
      " 16  long           21588 non-null  float64\n",
      "dtypes: float64(11), int64(6)\n",
      "memory usage: 3.0 MB\n"
     ]
    }
   ],
   "source": [
    "df.info()"
   ]
  },
  {
   "cell_type": "markdown",
   "metadata": {},
   "source": [
    "### A wild playground appears !!\n",
    "In the next cell, go wild with the dataset discovery.\n",
    "You can calculate the mean, the median or do anything you want to learn more the data.\n",
    "\n",
    "<b>Pro tip :</b> \n",
    "Sometimes you might want to know how many unique variables a column has, to do so you can use the padas function :\n",
    "\n",
    "<center>pd.unique(df['column_name'])</center>"
   ]
  },
  {
   "cell_type": "code",
   "execution_count": 33,
   "metadata": {},
   "outputs": [
    {
     "data": {
      "text/plain": [
       "price            540154.482490\n",
       "bedrooms              3.370576\n",
       "bathrooms             2.114670\n",
       "sqft_living        2079.916528\n",
       "sqft_lot          15113.699463\n",
       "floors                1.494187\n",
       "waterfront            0.007550\n",
       "view                  0.234297\n",
       "condition             3.409626\n",
       "grade                 7.656985\n",
       "sqft_above         1788.385353\n",
       "sqft_basement       291.531175\n",
       "yr_built           1971.004910\n",
       "yr_renovated         84.408329\n",
       "zipcode           98077.940661\n",
       "lat                  47.560054\n",
       "long               -122.213889\n",
       "dtype: float64"
      ]
     },
     "execution_count": 33,
     "metadata": {},
     "output_type": "execute_result"
    }
   ],
   "source": [
    "# To-Do : get to know more your data WITHOUT modifying it !!\n",
    "df.mean()\n"
   ]
  },
  {
   "cell_type": "code",
   "execution_count": 31,
   "metadata": {},
   "outputs": [
    {
     "data": {
      "text/plain": [
       "price            450000.0000\n",
       "bedrooms              3.0000\n",
       "bathrooms             2.2500\n",
       "sqft_living        1910.0000\n",
       "sqft_lot           7620.0000\n",
       "floors                1.5000\n",
       "waterfront            0.0000\n",
       "view                  0.0000\n",
       "condition             3.0000\n",
       "grade                 7.0000\n",
       "sqft_above         1560.0000\n",
       "sqft_basement         0.0000\n",
       "yr_built           1975.0000\n",
       "yr_renovated          0.0000\n",
       "zipcode           98065.0000\n",
       "lat                  47.5718\n",
       "long               -122.2305\n",
       "dtype: float64"
      ]
     },
     "execution_count": 31,
     "metadata": {},
     "output_type": "execute_result"
    }
   ],
   "source": [
    "df.median()"
   ]
  },
  {
   "cell_type": "code",
   "execution_count": 38,
   "metadata": {},
   "outputs": [
    {
     "name": "stdout",
     "output_type": "stream",
     "text": [
      " column  price  : \n",
      "[ 221900.  538000.  180000. ...  610685. 1007500.  402101.]\n",
      " column  bedrooms  : \n",
      "[ 3  2  4  5  1  6  7  0  8  9 11 10 33]\n",
      " column  bathrooms  : \n",
      "[1.   2.25 3.   2.   4.5  1.5  2.5  1.75 2.75 3.25 4.   3.5  0.75 4.75\n",
      " 5.   4.25 3.75 0.   1.25 5.25 6.   0.5  5.5  6.75 5.75 8.   7.5  7.75\n",
      " 6.25 6.5 ]\n",
      " column  sqft_living  : \n",
      "[1180. 2570.  770. ... 3087. 3118. 1425.]\n",
      " column  sqft_lot  : \n",
      "[ 5650.  7242. 10000. ...  5813.  2388.  1076.]\n",
      " column  floors  : \n",
      "[1.  2.  1.5 3.  2.5 3.5]\n",
      " column  waterfront  : \n",
      "[0 1]\n",
      " column  view  : \n",
      "[0 3 4 2 1]\n",
      " column  condition  : \n",
      "[3 5 4 1 2]\n",
      " column  grade  : \n",
      "[ 7  6  8 11  9  5 10 12  4  3 13  1]\n",
      " column  sqft_above  : \n",
      "[1180. 2170.  770. 1050. 1680. 3890. 1715. 1060. 1890. 1860.  860. 1430.\n",
      " 1370. 1810. 1980. 1600. 1200. 1250. 2330. 2270. 1070. 2450. 1710. 1750.\n",
      " 1400.  790. 2570. 2320. 1190. 1510. 1090. 1280.  930. 2360.  890. 2620.\n",
      " 2600. 1570.  920. 3160.  990. 2290. 2165. 1640. 1000. 2130. 2830. 2250.\n",
      " 2420. 3250. 1850. 1590. 1260. 2519. 1540. 1110. 1770. 2720. 2240. 3070.\n",
      " 2380. 2390.  880. 1040.  910. 3450. 2350. 1900. 1010.  960. 2660. 1610.\n",
      "  765. 3520. 1290. 1960. 1160. 1210. 1270. 2190. 2920. 1460. 1170. 1240.\n",
      " 3140. 2030. 2310.  700. 1080. 2520. 2780. 1560. 1450. 1720. 2910. 1620.\n",
      " 1360. 2070. 1440. 2460. 1390. 2140. 1320. 1340.  940. 1380. 3670. 2370.\n",
      " 1130.  980. 3540. 2500. 1760. 1030. 3400. 2680. 1670. 2590.  820. 1220.\n",
      " 2440. 2090. 1100. 1330. 1420. 1690. 2150. 1910. 1350. 1940.  900. 1630.\n",
      " 1550. 2714.  850. 1870. 1950. 1780. 2020. 1120. 1480. 1230. 2280. 3760.\n",
      " 3530.  830. 1300. 2740. 1830. 2010. 3360.  800. 1730.  760. 1700. 4750.\n",
      " 5310.  580. 2653. 2850. 2210. 2630. 3500. 1740. 1140. 2160. 2650.  970.\n",
      " 2040. 2180. 2220. 1660. 3370. 2690. 1930. 3150. 3030. 2050. 2490. 2560.\n",
      " 1275. 2580.  560. 2760. 1820. 1840. 2990. 3230. 1580. 3480. 2510. 1410.\n",
      " 2120. 3300. 3840. 1500. 1530. 2840.  833. 2000. 6070.  950. 2200. 4040.\n",
      " 1920. 1490. 3470. 3130. 2610. 3260. 2260.  430. 3390.  630. 4860. 3860.\n",
      " 2810.  870. 3180. 2770. 4030. 4410. 2400. 1520. 3040. 6050. 4740. 1970.\n",
      " 5403. 3350.  720. 3580. 1790.  750. 2860. 2750. 2340. 2870. 4120. 3200.\n",
      " 2550. 1805. 4150. 1384. 2060. 2110. 3590. 2100. 2540. 1880. 1150. 1470.\n",
      " 1255. 1800. 4370. 3190. 2730. 4570. 2470.  670. 2900. 4670. 4230. 2156.\n",
      " 1020. 2940. 2640. 2710. 3100. 3610. 4270.  840. 3090. 2300.  380. 2480.\n",
      " 3460. 3060. 3064. 3000. 1654. 2790. 1310. 2230. 2430. 3680. 2670. 2208.\n",
      "  810.  740. 1422.  490. 2080. 3440. 5670. 4475.  730. 3410. 3010.  600.\n",
      " 2960. 3570. 4300. 3990.  780. 3020. 5990.  440. 4460. 4190. 2800. 2530.\n",
      " 1650. 3690. 2932. 3720. 4250. 3110. 2963. 4930. 2950. 5000. 2452. 2820.\n",
      " 1981.  640. 2495. 2403. 5320. 6720.  660. 2341. 4210. 3830. 3280. 2980.\n",
      " 5153. 1990. 1646.  610.  710. 5450. 3504. 3210. 1782. 2930.  590. 4280.\n",
      "  680. 3880. 3430. 3750. 4130. 5710. 3380. 3330. 4700. 3220. 3362. 3510.\n",
      " 3810.  620. 4490. 2410. 3050. 1008. 3488. 4070. 3420. 5770. 1605.  520.\n",
      " 1088. 3555. 4360. 3960. 2700. 4340. 1552. 3850. 2303. 3270. 4350. 3640.\n",
      " 2174. 4160. 2496. 5180. 5130. 6350. 3770. 2153. 3780. 2890. 1714. 2201.\n",
      " 2970.  992. 3950. 3527. 2835. 3915. 1427. 4870. 3340. 3620. 4310. 3930.\n",
      " 4080. 5400.  570. 3310. 6110. 3320. 3490. 3859. 3710. 1798. 4600. 3560.\n",
      " 3940. 3600. 3800. 1105. 2305. 3290. 5050. 1556. 1553. 4000. 1657. 3001.\n",
      " 4220.  480. 3120. 3740.  530. 3700. 5230. 5370. 3080. 4140. 4430. 3550.\n",
      " 1159. 1288. 2880. 4610. 1122. 3052. 1479. 7680. 3820. 1934. 5080. 2675.\n",
      " 2506. 5760. 2154. 4390. 3240. 1995. 1689. 2782. 2395. 4400. 6200. 3526.\n",
      " 4320. 2483. 4380. 4580. 4180. 2064. 3650. 1726. 2019. 4240. 1256.  500.\n",
      " 1355. 1747. 1678. 1833. 1414. 4115. 3597. 3170.  390. 1976. 5830. 2601.\n",
      " 3920. 2641. 5070. 2518. 3910. 3660. 3695. 4020. 2803. 2074. 2038. 4060.\n",
      " 4890. 2329. 1264. 1095.  690. 4090. 1392. 2844.  902. 4560. 2811. 4720.\n",
      " 2168. 5610. 2683. 4900. 2095. 4290. 4050. 4260. 4440. 6220. 1175.  998.\n",
      " 2356. 4500. 3900. 3831. 1315. 4470. 4810. 2286. 2927. 4760. 8570. 5140.\n",
      " 1679. 1811. 2849. 1676. 1757. 3730. 2441. 2163. 5250. 2795. 2415. 3970.\n",
      " 4200. 1068. 5240. 1509. 1954. 4820. 1651. 4100. 1752. 3630. 2885. 3154.\n",
      " 1129. 2632. 1996. 4010.  550.  410. 6430. 3790. 2031. 1652. 2434. 3316.\n",
      " 1899. 2331. 2497. 2216. 4170. 1341. 1961. 5584. 8860. 2507. 5220. 4850.\n",
      " 5844. 5530. 2145.  650. 1982. 4910. 3605. 1778. 1463. 2783. 1946. 1358.\n",
      " 3870. 1864. 1845. 6290. 3980. 2382. 2979. 3674. 2726. 5440. 1295. 2115.\n",
      " 6085. 3265. 3136. 6640. 4620. 3361. 2245. 2242. 1078. 2577. 1329.  420.\n",
      " 4330. 1975. 7420. 1788. 2299. 1092. 4225. 1087. 1904.  470. 2966. 2192.\n",
      " 2253. 5550. 4133. 4285. 1216.  540. 9410. 2075. 5330. 2166. 1628. 1808.\n",
      " 1352. 2557. 6380. 7880. 2734. 1363. 1769. 2093. 1677. 2588. 5190. 2298.\n",
      " 1491. 2961. 5020. 5980. 4540.  844. 6120. 2233. 4480. 4110. 4770. 2473.\n",
      "  995. 5160. 1494. 2007. 1048. 3002. 4780. 2155. 2014. 4980. 2665. 4830.\n",
      " 4790. 5010.  370. 2105. 3006. 3004. 2689. 4660. 1746. 2678. 2755. 2414.\n",
      "  901. 4630. 2068. 2807. 2643. 2181. 4510. 4420. 1604. 1435. 3045. 2717.\n",
      " 2905. 4940. 5110. 2533. 6660. 3485. 2659. 5090. 2375. 1964.  866. 1595.\n",
      "  944. 5480.  809. 5040. 1764. 1656. 1802.  460. 2692. 1544. 2044. 1212.\n",
      " 4083. 8020. 3905. 1502. 4590.  384. 2092. 6090. 1615. 7320. 1396. 1484.\n",
      " 1765. 5490. 1453. 1643. 5300. 1381. 4065.  290. 1313. 5430. 1397. 2793.\n",
      " 2475. 1936. 3028.  798. 2575. 3276. 1584. 2393. 2029. 3222. 1072. 1785.\n",
      " 1984.  962. 2423. 2052. 2538. 2437. 2789. 2906. 4800. 7850. 2196. 1847.\n",
      " 2658. 2655. 3855. 1728.  963. 2223. 1611. 2015. 2448. 1489. 1116. 3745.\n",
      " 1002. 3202. 1347. 1481. 2311. 2544. 2584. 2217. 3569. 3181. 1921. 2612.\n",
      " 2671. 2598. 3284. 3266. 1076. 2594. 2718. 1794. 2481. 3845. 1413. 1876.\n",
      " 3148. 2413. 1767. 5060.  806. 2547. 1834. 2024. 1165. 2134. 1741. 2798.\n",
      " 1852. 2099. 3216. 1094. 2891. 2432. 2283. 2701. 1658.  893. 2009. 1444.\n",
      " 2744. 3078. 3065. 1578. 2815. 4960. 1571. 6530. 4640. 1536. 3172. 6370.\n",
      " 3223. 1608. 2229. 3135. 1408. 1763. 4840. 1232. 2502. 2424. 1296. 1914.\n",
      "  988. 3828. 3056. 2267. 1131. 2796. 1812. 1084. 2025. 1564. 1239. 2568.\n",
      " 1528. 2628. 2185. 2669. 1912. 2828. 2425. 1446. 3206. 2406. 1419. 2056.\n",
      " 1144. 2456. 4950. 3192.  828. 2529. 1987. 3906. 4073. 2578. 2738. 3691.\n",
      " 1061. 2846. 2542. 1889. 3336. 3236. 1451. 1983. 2313. 1824. 1322. 1766.\n",
      " 2301. 3274. 1108. 2864. 2716. 1572. 3281. 2656. 2398. 1867. 1613. 2587.\n",
      " 2623.  894. 1606. 2244. 2026. 2238. 2517. 2708. 2555. 1405. 4450. 1248.\n",
      " 6420. 2531. 1333. 2198. 3087. 3118. 1425.]\n",
      " column  sqft_basement  : \n",
      "[   0  400  910 1530  730 1700  300  970  760  720  700  820  780  790\n",
      "  330 1620  360  588 1510  410  990  600  560  550 1000 1600  500 1040\n",
      "  880 1010  240  265  290  800  380  710  840  770  480  570 1490  620\n",
      " 1250  120  650  180 1130  450 1640 1460 1020 1030  750  640 1070  490\n",
      " 1310  630 2000  390  430  850  210 1430 1950  440  220 1160  860  580\n",
      " 2060 1820 1180  200 1150 1200  680  530 1450 1170 1080  960 1100  280\n",
      "  870 1400 1320  660 1220  900  420 1580 1380  475  690  270  350  935\n",
      " 1370  980 1470  160  950  460   50  740 1780 1900  340  470  370  540\n",
      "  140 1760  130  610  520  890 1110  150 1720  810  190 1290  670 1800\n",
      " 1120 1810   60 1050  940  310  930 1390 1830 1300  510 1330 1590  920\n",
      " 1270 1420 1240 1960 1560 2020 1190 2110 1280  250 2390 1230  170  830\n",
      " 1260 1410 1340  590 1500 1140  260  100  320 1480 1060 1284 1670 1350\n",
      " 2570 2590 1090  110 2500   90 1940 1550 2350 2490 1481 1360 1135 1520\n",
      " 1850 1660 2130 2600 1690  243 1210 2620 1024 1798 1610 1440 1570 1650\n",
      "  704 1910 1630 2360 1852 2090 2400 1790 2150  230   70 1680 2100 3000\n",
      " 1870 1710 2030  875 1540 2850 2170  506  906  145 2040  784 1750  374\n",
      "  518 2720 2730 1840 3480 2160 1920 2330 1860 2050 4820 1913   80 2010\n",
      " 3260 2200  415 1730  652 2196 1930  515   40 2080 2580 1548 1740  235\n",
      "  861 1890 2220  792 2070 4130 2250 2240  894 1990  768 2550  435 1008\n",
      " 2300 2610  666 3500  172 1816 2190 1245 1525 1880  862  946 1281  414\n",
      " 2180  276 1248  602  516  176  225 1275  266  283   65 2310   10 1770\n",
      " 2120  295  207  915  556  417  143  508 2810   20  274  248]\n",
      " column  yr_built  : \n",
      "[1955. 1951. 1933. 1965. 1987. 2001. 1995. 1963. 1960. 2003. 1942. 1927.\n",
      " 1977. 1900. 1979. 1994. 1916. 1921. 1969. 1947. 1968. 1985. 1941. 1915.\n",
      " 1909. 1948. 2005. 1929. 1981. 1930. 1904. 1996. 2000. 1984. 1922. 1959.\n",
      " 1966. 1953. 1950. 2008. 1991. 1954. 1973. 2014. 1925. 1989. 1972. 1986.\n",
      " 1956. 2002. 1992. 1964. 1952. 1961. 2006. 1988. 1962. 1939. 1946. 1967.\n",
      " 1975. 1980. 1910. 1983. 1978. 1905. 1971. 2010. 1945. 1924. 1990. 1914.\n",
      " 1926. 2004. 1923. 2007. 1976. 1949. 1999. 1901. 1993. 1920. 1997. 1943.\n",
      " 1957. 1940. 1918. 1928. 1974. 1911. 1936. 1937. 1982. 1908. 1931. 1998.\n",
      " 1913. 2013. 1907. 1958. 2012. 1912. 2011. 1917. 1932. 1944. 1902. 2009.\n",
      " 1903. 1970. 2015. 1934. 1938. 1919. 1906. 1935.]\n",
      " column  yr_renovated  : \n",
      "[   0. 1991. 2002. 2010. 1999. 1992. 2013. 1994. 1978. 2005. 2008. 2003.\n",
      " 1984. 1954. 2014. 2011. 1974. 1983. 1945. 1990. 1988. 1957. 1977. 1981.\n",
      " 1995. 2000. 1998. 1970. 1989. 2004. 1986. 2009. 2007. 1987. 1973. 2006.\n",
      " 1985. 2001. 1980. 1971. 1979. 1997. 1950. 1969. 1948. 2015. 1968. 2012.\n",
      " 1963. 1951. 1993. 1962. 1996. 1972. 1953. 1955. 1982. 1956. 1940. 1976.\n",
      " 1946. 1975. 1958. 1964. 1959. 1960. 1967. 1965. 1934. 1944.]\n",
      " column  zipcode  : \n",
      "[98178. 98125. 98028. 98136. 98074. 98053. 98003. 98198. 98146. 98038.\n",
      " 98007. 98115. 98107. 98126. 98019. 98103. 98002. 98133. 98040. 98092.\n",
      " 98030. 98119. 98112. 98052. 98027. 98117. 98058. 98001. 98056. 98166.\n",
      " 98023. 98070. 98148. 98105. 98042. 98008. 98059. 98122. 98144. 98004.\n",
      " 98005. 98034. 98075. 98116. 98010. 98118. 98199. 98032. 98045. 98102.\n",
      " 98077. 98108. 98168. 98177. 98065. 98029. 98006. 98109. 98022. 98033.\n",
      " 98155. 98024. 98011. 98031. 98106. 98072. 98188. 98014. 98055. 98039.]\n",
      " column  lat  : \n",
      "[47.5112 47.721  47.7379 ... 47.3906 47.3339 47.6502]\n",
      " column  long  : \n",
      "[-122.257 -122.319 -122.233 -122.393 -122.045 -122.005 -122.327 -122.315\n",
      " -122.337 -122.031 -122.145 -122.292 -122.229 -122.394 -122.375 -121.962\n",
      " -122.343 -122.21  -122.306 -122.341 -122.169 -122.166 -122.172 -122.218\n",
      " -122.36  -122.314 -122.304 -122.11  -122.07  -122.357 -122.368 -122.157\n",
      " -122.31  -122.132 -122.362 -122.282 -122.18  -122.027 -122.347 -122.364\n",
      " -122.175 -121.977 -122.371 -122.151 -122.301 -122.451 -122.322 -122.189\n",
      " -122.384 -122.369 -122.281 -122.29  -122.114 -122.122 -122.116 -122.149\n",
      " -122.339 -122.335 -122.344 -122.32  -122.297 -122.192 -122.215 -122.16\n",
      " -122.179 -122.287 -122.036 -122.073 -121.987 -122.125 -122.34  -122.025\n",
      " -122.008 -122.291 -122.365 -122.199 -122.194 -122.387 -122.372 -122.391\n",
      " -122.351 -122.386 -122.249 -122.277 -122.378 -121.958 -121.714 -122.08\n",
      " -122.196 -122.184 -122.133 -122.38  -122.082 -122.109 -122.053 -122.349\n",
      " -122.295 -122.253 -122.248 -122.303 -122.294 -122.226 -122.266 -122.098\n",
      " -122.212 -122.244 -122.39  -122.352 -121.85  -122.152 -122.054 -122.072\n",
      " -121.998 -122.296 -122.299 -122.381 -122.358 -122.171 -122.174 -122.026\n",
      " -122.353 -121.943 -122.286 -122.336 -122.359 -122.162 -122.3   -122.176\n",
      " -121.996 -122.118 -122.023 -122.224 -122.168 -122.231 -122.331 -122.374\n",
      " -122.182 -122.308 -122.307 -121.999 -122.376 -122.2   -122.039 -122.102\n",
      " -122.188 -122.379 -122.043 -122.153 -122.191 -122.219 -122.312 -121.911\n",
      " -121.994 -122.165 -122.37  -122.158 -122.047 -122.284 -122.017 -122.275\n",
      " -122.268 -122.367 -122.217 -122.373 -122.013 -122.214 -122.034 -122.164\n",
      " -121.899 -122.183 -121.95  -122.324 -122.216 -122.395 -122.213 -122.345\n",
      " -122.278 -122.111 -121.711 -122.27  -122.178 -122.147 -121.772 -122.302\n",
      " -122.438 -122.223 -122.042 -122.323 -122.255 -122.4   -122.261 -122.071\n",
      " -122.206 -122.272 -122.23  -122.144 -122.193 -122.143 -122.154 -122.311\n",
      " -122.274 -122.077 -122.    -122.298 -122.058 -121.837 -122.333 -122.057\n",
      " -122.252 -122.093 -122.012 -122.052 -122.354 -122.22  -122.49  -121.875\n",
      " -122.24  -122.078 -122.173 -121.854 -122.222 -122.28  -122.137 -122.159\n",
      " -121.974 -122.141 -122.029 -121.709 -122.016 -122.19  -121.97  -122.329\n",
      " -122.195 -122.06  -121.959 -122.095 -122.148 -122.146 -122.35  -121.901\n",
      " -122.241 -122.129 -122.289 -122.305 -122.022 -122.385 -121.779 -122.032\n",
      " -122.402 -122.482 -122.227 -121.982 -122.161 -122.046 -122.156 -122.127\n",
      " -122.33  -122.197 -122.041 -122.103 -122.318 -122.382 -122.271 -121.955\n",
      " -122.211 -122.262 -122.258 -122.121 -122.221 -122.234 -122.089 -122.123\n",
      " -122.167 -121.909 -122.107 -122.064 -122.066 -122.062 -122.264 -122.186\n",
      " -122.087 -121.88  -121.864 -122.205 -122.363 -122.139 -122.018 -122.225\n",
      " -122.285 -122.084 -122.177 -122.056 -122.316 -122.021 -122.348 -122.009\n",
      " -122.131 -122.411 -122.198 -122.256 -122.117 -122.097 -122.075 -121.845\n",
      " -122.083 -122.259 -121.87  -122.015 -122.007 -121.86  -122.409 -121.755\n",
      " -121.972 -122.251 -122.317 -121.776 -122.115 -122.283 -122.242 -122.001\n",
      " -122.024 -122.309 -122.113 -121.771 -122.239 -122.273 -122.396 -122.094\n",
      " -122.267 -122.326 -122.13  -122.269 -121.853 -122.05  -122.346 -122.076\n",
      " -121.826 -122.124 -121.758 -122.181 -122.202 -121.785 -121.872 -122.006\n",
      " -122.004 -122.321 -121.882 -122.101 -122.03  -122.185 -122.1   -121.759\n",
      " -121.965 -122.201 -122.366 -122.313 -122.405 -122.02  -122.279 -122.355\n",
      " -121.934 -122.15  -122.356 -121.993 -122.044 -122.134 -121.867 -122.01\n",
      " -121.991 -122.011 -121.983 -122.228 -122.033 -122.276 -122.119 -121.937\n",
      " -122.361 -122.325 -122.203 -122.136 -122.237 -122.209 -122.128 -122.049\n",
      " -122.288 -122.106 -122.037 -122.207 -122.263 -121.915 -122.204 -122.09\n",
      " -122.069 -121.852 -121.787 -121.976 -122.377 -122.059 -122.383 -121.989\n",
      " -122.019 -122.208 -121.878 -122.328 -122.25  -122.338 -122.388 -122.265\n",
      " -122.332 -122.399 -122.397 -122.014 -121.956 -122.092 -122.028 -122.293\n",
      " -122.12  -122.035 -122.14  -122.04  -122.112 -121.906 -122.17  -122.238\n",
      " -122.512 -121.997 -121.89  -122.463 -121.908 -122.086 -122.389 -121.913\n",
      " -122.163 -121.918 -122.108 -122.502 -122.392 -122.236 -121.859 -121.981\n",
      " -122.342 -121.96  -121.978 -122.47  -121.91  -121.966 -122.065 -122.246\n",
      " -122.41  -121.879 -122.079 -122.099 -122.187 -121.98  -122.002 -122.138\n",
      " -121.898 -122.235 -122.126 -121.782 -121.995 -122.401 -121.858 -121.888\n",
      " -121.752 -122.063 -122.26  -121.78  -121.708 -121.721 -122.403 -121.945\n",
      " -122.243 -122.45  -121.927 -122.085 -122.088 -121.973 -122.055 -122.398\n",
      " -121.984 -121.912 -121.903 -121.946 -122.232 -122.412 -122.104 -122.048\n",
      " -122.479 -122.155 -121.833 -121.778 -122.003 -121.99  -121.926 -122.051\n",
      " -121.986 -122.245 -121.861 -122.431 -121.964 -122.142 -122.074 -122.247\n",
      " -122.497 -121.769 -121.827 -121.979 -121.871 -122.091 -121.754 -121.746\n",
      " -121.92  -121.992 -122.406 -121.359 -121.789 -121.707 -122.068 -122.404\n",
      " -122.334 -121.799 -121.774 -121.985 -121.865 -121.724 -122.415 -121.756\n",
      " -121.809 -122.135 -121.691 -122.038 -121.877 -121.94  -121.968 -121.988\n",
      " -121.315 -121.902 -122.514 -122.414 -121.883 -121.866 -121.744 -122.096\n",
      " -122.061 -121.881 -121.745 -122.461 -122.067 -121.868 -121.646 -121.93\n",
      " -122.105 -121.763 -121.718 -121.967 -121.777 -121.957 -121.823 -121.887\n",
      " -122.408 -122.462 -122.43  -122.456 -121.897 -121.932 -121.969 -121.916\n",
      " -122.081 -121.975 -121.735 -121.801 -121.761 -121.723 -121.924 -122.475\n",
      " -121.935 -122.407 -122.448 -122.453 -121.894 -121.936 -121.764 -122.416\n",
      " -121.905 -122.464 -121.768 -122.484 -121.738 -121.9   -121.82  -122.455\n",
      " -121.889 -122.496 -121.829 -122.505 -121.951 -121.847 -122.509 -121.961\n",
      " -121.417 -121.904 -122.503 -121.949 -121.874 -122.432 -121.971 -121.77\n",
      " -122.473 -121.896 -121.952 -122.254 -121.743 -121.933 -121.892 -121.749\n",
      " -121.473 -121.857 -122.465 -121.838 -121.954 -122.422 -121.931 -121.963\n",
      " -122.441 -121.925 -121.352 -122.511 -122.413 -121.876 -121.748 -121.818\n",
      " -121.8   -121.929 -121.698 -121.886 -121.802 -121.81  -121.762 -121.781\n",
      " -121.775 -122.44  -121.773 -121.819 -121.726 -122.459 -122.446 -121.855\n",
      " -121.736 -122.499 -122.46  -121.786 -122.421 -121.947 -122.439 -121.834\n",
      " -121.804 -122.443 -121.716 -121.848 -122.458 -122.515 -121.922 -121.953\n",
      " -121.783 -122.472 -121.944 -121.869 -121.828 -122.452 -121.831 -121.737\n",
      " -121.739 -121.863 -121.73  -121.856 -121.747 -121.893 -121.733 -121.846\n",
      " -121.821 -121.319 -121.765 -121.75  -122.506 -121.948 -121.921 -122.507\n",
      " -122.457 -121.914 -122.469 -121.792 -121.907 -121.841 -121.757 -121.788\n",
      " -121.731 -122.449 -121.316 -121.321 -122.504 -121.884 -121.803 -121.842\n",
      " -121.719 -121.766 -122.433 -122.519 -121.851 -121.402 -122.454 -122.467\n",
      " -121.325 -121.815 -121.676 -121.941 -122.445 -121.76  -121.885 -121.742\n",
      " -121.822 -121.895 -121.784 -121.701 -121.713 -121.727 -121.849 -121.835\n",
      " -122.435 -122.474 -122.444 -121.939 -121.48  -121.364 -121.767 -122.42\n",
      " -121.84  -122.425 -122.447 -121.797 -122.491 -121.917 -121.891 -121.942\n",
      " -121.862 -121.725 -121.873 -121.405 -122.486 -121.795 -121.734 -121.403]\n"
     ]
    }
   ],
   "source": [
    "for i in df.columns : \n",
    "    print(\" column \",i , \" : \")\n",
    "    print(pd.unique(df[i]) )"
   ]
  },
  {
   "cell_type": "markdown",
   "metadata": {},
   "source": [
    "### 6.Outliers detection:<a id='outliers'></a>\n",
    "Having outliers is a common problem that might affect the quality of the model that we're building.\n",
    "\n",
    "Let's assume that we're not interested in very expensive or very cheap houses, we want a model that best fits the average priced houses.\n",
    "\n",
    "To create such a model, we detect outliers and delete them using the Z-score method seen in the lessons."
   ]
  },
  {
   "cell_type": "code",
   "execution_count": 40,
   "metadata": {},
   "outputs": [
    {
     "name": "stdout",
     "output_type": "stream",
     "text": [
      "[[-0.8668458  -0.39853388 -1.44749732 ...  1.8699739  -0.35259936\n",
      "  -0.3061357 ]\n",
      " [-0.00586827 -0.39853388  0.17573767 ...  0.87947548  1.16160665\n",
      "  -0.74640901]\n",
      " [-0.98097095 -1.47397756 -1.44749732 ... -0.93332352  1.28358034\n",
      "  -0.13570732]\n",
      " ...\n",
      " [-0.37602324 -1.47397756 -1.77214432 ...  1.23455982  0.24788653\n",
      "  -0.60438536]\n",
      " [-0.38174584 -0.39853388  0.50038467 ... -0.95201217 -0.18443444\n",
      "   1.02888661]\n",
      " [-0.58602713 -1.47397756 -1.77214432 ...  1.23455982  0.24572131\n",
      "  -0.60438536]]\n"
     ]
    }
   ],
   "source": [
    "# To-Do : detect the outliers then delete them ad delete the column created to calculate the Z-score\n",
    "from scipy import stats\n",
    "import numpy as np\n",
    "z = stats.zscore(df, nan_policy='omit')\n",
    "print(z)"
   ]
  },
  {
   "cell_type": "code",
   "execution_count": 41,
   "metadata": {},
   "outputs": [],
   "source": [
    "abs_z_scores = np.abs(z)\n",
    "filtered_entries = (abs_z_scores < 3).all(axis=1)\n",
    "df = df[filtered_entries]"
   ]
  },
  {
   "cell_type": "code",
   "execution_count": 43,
   "metadata": {},
   "outputs": [
    {
     "data": {
      "text/plain": [
       "(18854, 17)"
      ]
     },
     "execution_count": 43,
     "metadata": {},
     "output_type": "execute_result"
    }
   ],
   "source": [
    "df.shape"
   ]
  },
  {
   "cell_type": "code",
   "execution_count": 42,
   "metadata": {},
   "outputs": [
    {
     "name": "stdout",
     "output_type": "stream",
     "text": [
      "<class 'pandas.core.frame.DataFrame'>\n",
      "Int64Index: 18854 entries, 0 to 21612\n",
      "Data columns (total 17 columns):\n",
      " #   Column         Non-Null Count  Dtype  \n",
      "---  ------         --------------  -----  \n",
      " 0   price          18854 non-null  float64\n",
      " 1   bedrooms       18854 non-null  int64  \n",
      " 2   bathrooms      18854 non-null  float64\n",
      " 3   sqft_living    18854 non-null  float64\n",
      " 4   sqft_lot       18854 non-null  float64\n",
      " 5   floors         18854 non-null  float64\n",
      " 6   waterfront     18854 non-null  int64  \n",
      " 7   view           18854 non-null  int64  \n",
      " 8   condition      18854 non-null  int64  \n",
      " 9   grade          18854 non-null  int64  \n",
      " 10  sqft_above     18854 non-null  float64\n",
      " 11  sqft_basement  18854 non-null  int64  \n",
      " 12  yr_built       18854 non-null  float64\n",
      " 13  yr_renovated   18854 non-null  float64\n",
      " 14  zipcode        18854 non-null  float64\n",
      " 15  lat            18854 non-null  float64\n",
      " 16  long           18854 non-null  float64\n",
      "dtypes: float64(11), int64(6)\n",
      "memory usage: 2.6 MB\n"
     ]
    }
   ],
   "source": [
    "df.info()"
   ]
  },
  {
   "cell_type": "markdown",
   "metadata": {},
   "source": [
    "### 7.Feature selection:<a id='feature_selection'></a>\n",
    "It is clear that even after deleting some features, there might be other features that aren't obviously useless but can be delted and keep a good overall performance.\n",
    "\n",
    "To verify this, we perform feature selection on our variables."
   ]
  },
  {
   "cell_type": "code",
   "execution_count": 44,
   "metadata": {},
   "outputs": [
    {
     "data": {
      "text/plain": [
       "<AxesSubplot:>"
      ]
     },
     "execution_count": 44,
     "metadata": {},
     "output_type": "execute_result"
    },
    {
     "data": {
      "image/png": "[encoded data removed]",
      "text/plain": [
       "<Figure size 432x288 with 2 Axes>"
      ]
     },
     "metadata": {
      "needs_background": "light"
     },
     "output_type": "display_data"
    }
   ],
   "source": [
    "# To-Do : perform feature selection using correlation\n",
    "sns.heatmap(df.corr())"
   ]
  },
  {
   "cell_type": "raw",
   "metadata": {},
   "source": [
    "we can see that waterfront and yr_renovated  are highly correlated with all features"
   ]
  },
  {
   "cell_type": "code",
   "execution_count": 45,
   "metadata": {},
   "outputs": [],
   "source": [
    "# To-Do : drop the variables that seem highly correlated to you\n",
    "df.drop([\"waterfront\",\"yr_renovated\"],axis=1,inplace=True)"
   ]
  },
  {
   "cell_type": "markdown",
   "metadata": {},
   "source": [
    "### 8.Linear regression:<a id='linear_reg'></a>\n",
    "Now that our data is clean and ready to be used, let's try to fit it into a linear regression model.\n",
    "\n",
    "<ul>\n",
    "    <li>We begin by splitting our variables into dependant and independant variables.</li>\n",
    "    <li>We create the model using the LinearRegression class.</li>\n",
    "    <li>We evaluate our model using the R² score</li>\n",
    "</ul>"
   ]
  },
  {
   "cell_type": "code",
   "execution_count": 47,
   "metadata": {},
   "outputs": [],
   "source": [
    "# Splitting the data into dependant and independant variables\n",
    "Y = df['price']\n",
    "X = df.drop(['price'],axis = 1)"
   ]
  },
  {
   "cell_type": "code",
   "execution_count": 48,
   "metadata": {},
   "outputs": [
    {
     "data": {
      "text/plain": [
       "LinearRegression()"
      ]
     },
     "execution_count": 48,
     "metadata": {},
     "output_type": "execute_result"
    }
   ],
   "source": [
    "from sklearn.linear_model import LinearRegression\n",
    "# To-Do : Create a linear regression model using the LinearRegression class then fit it to the data\n",
    "model=LinearRegression()\n",
    "model.fit(X,Y)"
   ]
  },
  {
   "cell_type": "code",
   "execution_count": 50,
   "metadata": {},
   "outputs": [
    {
     "data": {
      "text/plain": [
       "0.6781067869399968"
      ]
     },
     "execution_count": 50,
     "metadata": {},
     "output_type": "execute_result"
    }
   ],
   "source": [
    "# The function used to calculate the R² score is the method \"score\" found in the LinearRegression class\n",
    "model.score(X, Y)"
   ]
  },
  {
   "cell_type": "markdown",
   "metadata": {},
   "source": [
    "## Conclusion:\n",
    "Data preparation is a very important step in the machine learning pipeline. It is crucial to clean our data and understand it very well before we can create any model on the data.\n",
    "\n",
    "In this notebook, we have spent 4 steps preparing our data but only 1 to create the model. This reflects how time consuming the process of data preparation is compared to the other steps as well as the importance of the quality of the data used.\n",
    "\n",
    "In the next unit, we will see more about the models creation process and see a lot of important concepts in depth."
   ]
  },
  {
   "cell_type": "code",
   "execution_count": null,
   "metadata": {},
   "outputs": [],
   "source": []
  }
 ],
 "metadata": {
  "kernelspec": {
   "display_name": "Python 3 (ipykernel)",
   "language": "python",
   "name": "python3"
  },
  "language_info": {
   "codemirror_mode": {
    "name": "ipython",
    "version": 3
   },
   "file_extension": ".py",
   "mimetype": "text/x-python",
   "name": "python",
   "nbconvert_exporter": "python",
   "pygments_lexer": "ipython3",
   "version": "3.8.12"
  }
 },
 "nbformat": 4,
 "nbformat_minor": 2
}
